{
  "nbformat": 4,
  "nbformat_minor": 0,
  "metadata": {
    "colab": {
      "name": "1.Python_intro.ipynb",
      "provenance": [],
      "collapsed_sections": []
    },
    "kernelspec": {
      "name": "python3",
      "display_name": "Python 3"
    },
    "language_info": {
      "name": "python"
    }
  },
  "cells": [
    {
      "cell_type": "markdown",
      "metadata": {
        "id": "ZGumNdBZWxUW"
      },
      "source": [
        "## <font color=#026D8F>**Python Tutorial-TH**\n",
        "\n",
        "\n"
      ]
    },
    {
      "cell_type": "markdown",
      "metadata": {
        "id": "Rk_tzDnUWxVu"
      },
      "source": [
        "### <font color=#026D8F>Python Intro</font>"
      ]
    },
    {
      "cell_type": "markdown",
      "metadata": {
        "id": "l7SaV_ppXtPc"
      },
      "source": [
        "#### <font color=#026D8F>ไพทอนคืออะไร? \n",
        "\n",
        "Python คือภาษาโปรแกรมยอดนิยม ถูกสร้างโดย Guido van Rossum และเปิดตัวในปี ค.ศ. 1991.\n",
        "\n",
        "Python ใช้สำหรับ:\n",
        "\n",
        "*   Data science\n",
        "*   Web development (Django)\n",
        "*   Machine learning\n",
        "*   Data analytics\n",
        "*   Data visualization\n",
        "\n",
        "#### <font color=#026D8F>ทำไมต้องไพทอน? \n",
        "\n",
        "* Python สามารถทำงานบนแพลตฟอร์มต่างๆได้ ( เช่น Windows, Mac, Linux, Raspberry Pi เป็นต้น)\n",
        "* Python หลักการเขียนไวยากรณ์ มีลักษณะคล้ายกับภาษาอังกฤษ\n",
        "* Python มีไวยากรณ์ที่ช่วยให้นักพัฒนาสามารถเขียนโปรแกรม ที่มีจำนวนบรรทัดน้อยกว่าภาษาโปรแกรมอื่นๆ\n",
        "* Python สามารถเรียกใช้โค้ดคำสั่งในแพลตฟอร์มได้ โดยการพิมโค้ดคำสั่งลงไป ทำให้การสร้างต้นแบบ สามารถทำได้อย่างรวดเร็วมาก\n",
        "* Python สามารถปฏิบัติงานเป็นขั้นตอน วิธีเชิงวัตถุ หรือ วิธีการทำงาน\n",
        "\n",
        "\n",
        "#### <font color=#026D8F>Python Syntax เทียบกับภาษาโปรแกรมอื่นๆ\n",
        "\n",
        "* Python ถูกออกแบบมาให้อ่านง่าย และมีความคล้ายคลึงบางอย่างกับภาษาอังกฤษโดยได้รับอิทธิพลมาจากคณิตศาสตร์\n",
        "* Python ใช้บรรทัดใหม่เพื่อทำให้คำสั่งสมบูรณ์ ตรงข้ามกับภาษาโปรแกรมอื่นๆ ที่มักใช้เครื่องหมายอัฒภาคหรือวงเล็บ\n",
        "* Python อาศัยการเยื้องโดยใช้ช่องว่างเพื่อกำหนดขอบเขต เช่น ขอบเขตของลูป ฟังก์ชัน และคลาส ภาษาโปรแกรมอื่น ๆ มักใช้วงเล็บปีกกาเพื่อจุดประสงค์นี้ \n",
        "\n",
        "\n",
        "\n",
        "\n",
        "\n",
        "\n",
        "\n",
        "\n",
        "\n",
        "\n",
        "\n",
        "\n",
        "\n",
        "\n",
        "\n",
        "\n"
      ]
    },
    {
      "cell_type": "code",
      "metadata": {
        "id": "A5z8OuCsZhBl",
        "colab": {
          "base_uri": "https://localhost:8080/"
        },
        "outputId": "d4b24df1-9e03-4aeb-d310-ce2f9251667a"
      },
      "source": [
        "#Let's write our first code for python\n",
        "\n",
        "print(\"Learning python\")\n"
      ],
      "execution_count": null,
      "outputs": [
        {
          "output_type": "stream",
          "text": [
            "Learning python\n"
          ],
          "name": "stdout"
        }
      ]
    }
  ]
}