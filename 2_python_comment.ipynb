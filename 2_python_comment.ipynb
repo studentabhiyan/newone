{
  "nbformat": 4,
  "nbformat_minor": 0,
  "metadata": {
    "colab": {
      "name": "2.python_comment.ipynb",
      "provenance": [],
      "collapsed_sections": []
    },
    "kernelspec": {
      "name": "python3",
      "display_name": "Python 3"
    },
    "language_info": {
      "name": "python"
    }
  },
  "cells": [
    {
      "cell_type": "markdown",
      "metadata": {
        "id": "_kTHz4i450TC"
      },
      "source": [
        "#### <font color=#026D8F>**Python comment**"
      ]
    },
    {
      "cell_type": "markdown",
      "metadata": {
        "id": "-SI7wBBq529j"
      },
      "source": [
        "ความคิดเห็นสามารถใช้เพื่ออธิบายโค้ด Python\n",
        "\n",
        "ความคิดเห็นสามารถใช้เพื่อทำให้โค้ดอ่านง่ายขึ้น\n",
        "\n",
        "ความคิดเห็นสามารถใช้เพื่อป้องกันการดำเนินการเมื่อทำการทดสอบโค้ด\n",
        "\n",
        "#### ความคิดเห็นเริ่มต้นด้วย a และ Python จะละเว้น:"
      ]
    },
    {
      "cell_type": "code",
      "metadata": {
        "id": "AfjGkdO66bJC"
      },
      "source": [
        "#this how you comment."
      ],
      "execution_count": null,
      "outputs": []
    },
    {
      "cell_type": "markdown",
      "metadata": {
        "id": "DqlZDqPHROJu"
      },
      "source": [
        "#### สามารถใส่ความคิดเห็นไว้ที่ท้ายบรรทัด และ Python จะละเว้นส่วนที่เหลือของบรรทัด:"
      ]
    },
    {
      "cell_type": "code",
      "metadata": {
        "colab": {
          "base_uri": "https://localhost:8080/"
        },
        "id": "CHg3bKcVRZtr",
        "outputId": "2ee41031-6748-4e54-849e-5d3e62c37588"
      },
      "source": [
        "print(\"Sawadee Python\") #this is how you comment"
      ],
      "execution_count": null,
      "outputs": [
        {
          "output_type": "stream",
          "text": [
            "Sawadee Python\n"
          ],
          "name": "stdout"
        }
      ]
    },
    {
      "cell_type": "markdown",
      "metadata": {
        "id": "oRAhq_xwRuU8"
      },
      "source": [
        "#### ความคิดเห็นไม่จำเป็นต้องเป็นข้อความที่อธิบายโค้ด แต่สามารถใช้เพื่อป้องกัน Python ไม่ให้รันโค้ดได้:"
      ]
    },
    {
      "cell_type": "code",
      "metadata": {
        "colab": {
          "base_uri": "https://localhost:8080/"
        },
        "id": "4nBj84P-R2tV",
        "outputId": "7996a605-7ad7-426b-d859-664d27fdd5b6"
      },
      "source": [
        "print(\"Python dee mark mark\")\n",
        "#print(\"Sawadee Python\")"
      ],
      "execution_count": null,
      "outputs": [
        {
          "output_type": "stream",
          "text": [
            "Python dee mark mark\n"
          ],
          "name": "stdout"
        }
      ]
    },
    {
      "cell_type": "markdown",
      "metadata": {
        "id": "AK0vUdd9SYUk"
      },
      "source": [
        "#### <font color=#026D8F>Multi line comment"
      ]
    },
    {
      "cell_type": "markdown",
      "metadata": {
        "id": "3jnQXypkSOyU"
      },
      "source": [
        "##### เนื่องจาก Python จะละเว้นตัวอักษรสตริงที่ไม่ได้กำหนดให้กับตัวแปร คุณสามารถเพิ่มสตริงหลายบรรทัด (เครื่องหมายคำพูดสามอัน) ในโค้ดของคุณ และใส่ความคิดเห็นของคุณไว้ข้างใน:"
      ]
    },
    {
      "cell_type": "code",
      "metadata": {
        "colab": {
          "base_uri": "https://localhost:8080/"
        },
        "id": "2FsVD9J6SvO1",
        "outputId": "c84e5c26-0382-4b21-99f6-e54d17c26921"
      },
      "source": [
        "\"\"\"\n",
        "this \n",
        "is\n",
        "multi-line\n",
        "comment\n",
        "\"\"\"\n",
        "print(\"Python is better.\")"
      ],
      "execution_count": null,
      "outputs": [
        {
          "output_type": "stream",
          "text": [
            "Python is better.\n"
          ],
          "name": "stdout"
        }
      ]
    },
    {
      "cell_type": "markdown",
      "metadata": {
        "id": "CeLUoAV1TAnN"
      },
      "source": [
        "##### ตราบใดที่สตริงไม่ได้ถูกกำหนดให้กับตัวแปร Python จะอ่านโค้ด แต่จากนั้นก็เพิกเฉย และคุณได้แสดงความคิดเห็นแบบหลายบรรทัด"
      ]
    }
  ]
}